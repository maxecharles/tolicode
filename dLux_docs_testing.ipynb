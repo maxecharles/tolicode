{
 "cells": [
  {
   "cell_type": "code",
   "execution_count": 11,
   "metadata": {},
   "outputs": [],
   "source": [
    "# Set CPU count for numpyro multi-chain multi-thread\n",
    "import os\n",
    "os.environ[\"XLA_FLAGS\"] = '--xla_force_host_platform_device_count=4'\n",
    "\n",
    "import jax.random as jr\n",
    "import jax.numpy as np\n",
    "import dLux as dl\n",
    "import dLux.utils as dlu\n",
    "import matplotlib.pyplot as plt\n",
    "\n",
    "# Set global plotting parameters\n",
    "%matplotlib inline\n",
    "plt.rcParams['image.cmap'] = 'inferno'\n",
    "plt.rcParams[\"font.family\"] = 'serif'\n",
    "plt.rcParams[\"image.origin\"] = 'lower'\n",
    "plt.rcParams['figure.dpi'] = 72\n"
   ]
  },
  {
   "cell_type": "code",
   "execution_count": 12,
   "metadata": {},
   "outputs": [],
   "source": [
    "from dLuxToliman import AlphaCen\n",
    "\n",
    "# Use the AlphaCen object for separation in units of arcseconds, and flux in log\n",
    "source = AlphaCen()\n",
    "source = source.set(['log_flux', 'separation'], [3.5, 0.1])\n",
    "\n",
    "# Aperture properties\n",
    "wf_npix = 128\n",
    "diameter = 1\n",
    "\n",
    "# Construct an aperture with a single spider as the asymmetry\n",
    "coords = dlu.pixel_coords(5*wf_npix, diameter)\n",
    "circle = dlu.circle(coords, diameter/2)\n",
    "transmission = dlu.combine([circle], 5)\n",
    "\n",
    "# Zernike aberrations\n",
    "zernike_indexes = np.arange(4, 11)\n",
    "true_coeffs = 1e-9 * jr.normal(jr.PRNGKey(0), zernike_indexes.shape)\n",
    "coords = dlu.pixel_coords(wf_npix, diameter)\n",
    "basis = np.array([dlu.zernike(i, coords, diameter) for i in zernike_indexes])\n",
    "\n",
    "layers = [('aperture', dl.layers.BasisOptic(basis, transmission, true_coeffs, normalise=True))]\n",
    "\n",
    "# Psf properties\n",
    "psf_npixels = 16\n",
    "psf_pixel_scale = 0.03\n",
    "\n",
    "# Construct\n",
    "optics = dl.AngularOpticalSystem(wf_npix, diameter, layers, psf_npixels, psf_pixel_scale)\n",
    "\n",
    "# Construct Telescope\n",
    "telescope = dl.Telescope(optics, ('source', source))\n"
   ]
  },
  {
   "cell_type": "code",
   "execution_count": 13,
   "metadata": {},
   "outputs": [
    {
     "data": {
      "image/png": "[encoded data removed]",
      "text/plain": [
       "<Figure size 1080x288 with 6 Axes>"
      ]
     },
     "metadata": {},
     "output_type": "display_data"
    }
   ],
   "source": [
    "## Generate psf\n",
    "psf = telescope.model()\n",
    "psf_photon = jr.poisson(jr.PRNGKey(0), psf)\n",
    "bg_noise = 3*jr.normal(jr.PRNGKey(0), psf_photon.shape)\n",
    "data = psf_photon + bg_noise\n",
    "\n",
    "plt.figure(figsize=(15, 4))\n",
    "plt.subplot(1, 3, 1)\n",
    "plt.title(\"PSF\")\n",
    "plt.imshow(psf)\n",
    "plt.colorbar()\n",
    "\n",
    "plt.subplot(1, 3, 2)\n",
    "plt.title(\"PSF with photon noise\")\n",
    "plt.imshow(psf_photon)\n",
    "plt.colorbar()\n",
    "\n",
    "plt.subplot(1, 3, 3)\n",
    "plt.title(\"Data\")\n",
    "plt.imshow(data)\n",
    "plt.colorbar()\n",
    "plt.show()\n"
   ]
  },
  {
   "cell_type": "code",
   "execution_count": 14,
   "metadata": {},
   "outputs": [
    {
     "ename": "ModuleNotFoundError",
     "evalue": "No module named 'numpyro'",
     "output_type": "error",
     "traceback": [
      "\u001b[0;31m---------------------------------------------------------------------------\u001b[0m",
      "\u001b[0;31mModuleNotFoundError\u001b[0m                       Traceback (most recent call last)",
      "Cell \u001b[0;32mIn[14], line 2\u001b[0m\n\u001b[1;32m      1\u001b[0m \u001b[38;5;66;03m# PPL\u001b[39;00m\n\u001b[0;32m----> 2\u001b[0m \u001b[38;5;28;01mimport\u001b[39;00m \u001b[38;5;21;01mnumpyro\u001b[39;00m \u001b[38;5;28;01mas\u001b[39;00m \u001b[38;5;21;01mnpy\u001b[39;00m\n\u001b[1;32m      3\u001b[0m \u001b[38;5;28;01mimport\u001b[39;00m \u001b[38;5;21;01mnumpyro\u001b[39;00m\u001b[38;5;21;01m.\u001b[39;00m\u001b[38;5;21;01mdistributions\u001b[39;00m \u001b[38;5;28;01mas\u001b[39;00m \u001b[38;5;21;01mdist\u001b[39;00m\n\u001b[1;32m      5\u001b[0m parameters \u001b[38;5;241m=\u001b[39m [\u001b[38;5;124m'\u001b[39m\u001b[38;5;124mx_position\u001b[39m\u001b[38;5;124m'\u001b[39m, \u001b[38;5;124m'\u001b[39m\u001b[38;5;124my_position\u001b[39m\u001b[38;5;124m'\u001b[39m, \u001b[38;5;124m'\u001b[39m\u001b[38;5;124mseparation\u001b[39m\u001b[38;5;124m'\u001b[39m, \u001b[38;5;124m'\u001b[39m\u001b[38;5;124mposition_angle\u001b[39m\u001b[38;5;124m'\u001b[39m, \n\u001b[1;32m      6\u001b[0m     \u001b[38;5;124m'\u001b[39m\u001b[38;5;124mlog_flux\u001b[39m\u001b[38;5;124m'\u001b[39m, \u001b[38;5;124m'\u001b[39m\u001b[38;5;124mcontrast\u001b[39m\u001b[38;5;124m'\u001b[39m]\n",
      "\u001b[0;31mModuleNotFoundError\u001b[0m: No module named 'numpyro'"
     ]
    }
   ],
   "source": [
    "# PPL\n",
    "import numpyro as npy\n",
    "import numpyro.distributions as dist\n",
    "\n",
    "parameters = ['x_position', 'y_position', 'separation', 'position_angle', \n",
    "    'log_flux', 'contrast']\n",
    "\n",
    "def psf_model(data, model):\n",
    "    \"\"\"\n",
    "    Define the numpyro function\n",
    "    \"\"\"\n",
    "    values = [\n",
    "        npy.sample(\"x\",        dist.Uniform(-0.1, 0.1)),\n",
    "        npy.sample(\"y\",        dist.Uniform(-0.1, 0.1)),\n",
    "        npy.sample(\"r\",        dist.Uniform(0.01, 0.5)),\n",
    "        npy.sample(\"theta\",    dist.Uniform(80, 100)),\n",
    "        npy.sample(\"log_flux\", dist.Uniform(3, 4)),\n",
    "        npy.sample(\"contrast\", dist.Uniform(1, 5)),\n",
    "    ]\n",
    "\n",
    "    with npy.plate(\"data\", len(data.flatten())):\n",
    "        poisson_model = dist.Poisson(\n",
    "            model.set(parameters, values).model().flatten())\n",
    "        return npy.sample(\"psf\", poisson_model, obs=data.flatten())\n"
   ]
  },
  {
   "cell_type": "code",
   "execution_count": null,
   "metadata": {},
   "outputs": [],
   "source": []
  }
 ],
 "metadata": {
  "kernelspec": {
   "display_name": "dLux",
   "language": "python",
   "name": "python3"
  },
  "language_info": {
   "codemirror_mode": {
    "name": "ipython",
    "version": 3
   },
   "file_extension": ".py",
   "mimetype": "text/x-python",
   "name": "python",
   "nbconvert_exporter": "python",
   "pygments_lexer": "ipython3",
   "version": "3.12.0"
  }
 },
 "nbformat": 4,
 "nbformat_minor": 2
}
